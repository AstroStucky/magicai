{
    "metadata": {
        "language_info": {
            "codemirror_mode": {
                "name": "ipython", 
                "version": 2
            }, 
            "file_extension": ".py", 
            "pygments_lexer": "ipython2", 
            "name": "python", 
            "mimetype": "text/x-python", 
            "nbconvert_exporter": "python", 
            "version": "2.7.11"
        }, 
        "kernelspec": {
            "display_name": "Python 2 with Spark 2.0", 
            "name": "python2-spark20", 
            "language": "python"
        }
    }, 
    "nbformat": 4, 
    "cells": [
        {
            "source": "import ibmseti\nimport matplotlib.pyplot as plt\nimport numpy as np\n\nbaseDir = '/Users/jimh/SETI/basic/'\nindex = open(baseDir + 'public_list_basic_v2_26may_2017.csv','r')\n\ndef draw_spectrogram(data):\n    \n    aca = ibmseti.compamp.SimCompamp(data.read())\n    spec = aca.get_spectrogram()\n\n    # Instead of using SimCompAmp.get_spectrogram method\n    # perform your own signal processing here before you create the spectrogram\n    #\n    # SimCompAmp.get_spectrogram is relatively simple. Here's the code to reproduce it:\n    #\n    # header, raw_data = r.content.split('\\n',1)\n    # complex_data = np.frombuffer(raw_data, dtype='i1').astype(np.float32).view(np.complex64)\n    # shape = (32, 6144)\n    # spec = np.abs( np.fft.fftshift( np.fft.fft( complex_data.reshape(*shape) ), 1) )**2\n    # \n    # But instead of the line above, can you maniputlate `complex_data` with signal processing\n    # techniques in the time-domain (windowing?, de-chirp?), or manipulate the output of the \n    # np.fft.fft process in a way to improve the signal to noise (Welch periodogram, subtract noise model)? \n    # \n    # example: Apply Hanning Window\n    # complex_data = complex_data.reshape(*shape)\n    # complex_data = complex_data * np.hanning(complex_data.shape[1])\n    # spec = np.abs( np.fft.fftshift( np.fft.fft( complex_data ), 1) )**2\n\n\n    fig, ax = plt.subplots(figsize=(10, 5))   \n\n    # do different color mappings affect Watson's classification accuracy?\n    # ax.imshow(np.log(spec), aspect = 0.5*float(spec.shape[1]) / spec.shape[0], cmap='hot')\n    # ax.imshow(np.log(spec), aspect = 0.5*float(spec.shape[1]) / spec.shape[0], cmap='gray')\n    # ax.imshow(np.log(spec), aspect = 0.5*float(spec.shape[1]) / spec.shape[0], cmap='Greys')\n    \n    ax.imshow(np.log(spec), aspect = 0.5*float(spec.shape[1]) / spec.shape[0])\n    \n    return fig\n\nwhile True:\n    line = index.readline()\n    if line == '': break\n    df,ty = line.split(',')\n    ty = ty.strip()\n    phyle = open(baseDir+df+'.dat','r+b')\n    spect = draw_spectrogram(phyle)\n    out = baseDir+'spect/'+ty+'/'+df+'.png'\n    spect.savefig(out)\n    plt.close(spect)\n    print out\n\nexit(0)", 
            "metadata": {
                "collapsed": true
            }, 
            "execution_count": null, 
            "cell_type": "code", 
            "outputs": []
        }
    ], 
    "nbformat_minor": 0
}